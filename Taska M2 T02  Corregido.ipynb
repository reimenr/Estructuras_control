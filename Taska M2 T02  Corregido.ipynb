{
 "cells": [
  {
   "cell_type": "markdown",
   "id": "06a6d751",
   "metadata": {},
   "source": [
    "###  Ejercicio 1"
   ]
  },
  {
   "cell_type": "code",
   "execution_count": 3,
   "id": "076fa748",
   "metadata": {},
   "outputs": [],
   "source": [
    "def clasif(escala):\n",
    "    if escala < 5:\n",
    "        return \"suspendido\"\n",
    "    elif escala < 7:\n",
    "        return \"Aprobado\"\n",
    "    elif escala < 9:\n",
    "        return \"Notable\"\n",
    "    elif escala <= 10:\n",
    "        return \"Excelente\"\n",
    "    else:\n",
    "        return \"no existe\""
   ]
  },
  {
   "cell_type": "code",
   "execution_count": 4,
   "id": "4dd6c32b",
   "metadata": {},
   "outputs": [
    {
     "data": {
      "text/plain": [
       "'Excelente'"
      ]
     },
     "execution_count": 4,
     "metadata": {},
     "output_type": "execute_result"
    }
   ],
   "source": [
    "clasif(9)"
   ]
  },
  {
   "cell_type": "markdown",
   "id": "5179dc39",
   "metadata": {},
   "source": [
    "### Ejercicio 2"
   ]
  },
  {
   "cell_type": "code",
   "execution_count": 27,
   "id": "6e67a1a5",
   "metadata": {},
   "outputs": [
    {
     "name": "stdout",
     "output_type": "stream",
     "text": [
      "Ingrese primer numero: 5\n",
      "ingrese segundo numero: 8\n",
      "el numero menor es el:  5\n"
     ]
    }
   ],
   "source": [
    "num1= int(input(\"Ingrese primer numero: \"))\n",
    "num2= int(input(\"ingrese segundo numero: \"))\n",
    "def numeros(n1, n2):\n",
    "    if n1 > n2:\n",
    "        print(\"el numero mayor es el: \", max(n1,n2))\n",
    "    elif n1 < n2:\n",
    "        print(\"el numero menor es el: \", min(n1,n2))\n",
    "    else: \n",
    "        print(\"Los numeros: \", (n1,n2),\"son iguales\")\n",
    "numeros(num1, num2)"
   ]
  },
  {
   "cell_type": "markdown",
   "id": "319f71f7",
   "metadata": {},
   "source": [
    "### Ejercicio 3"
   ]
  },
  {
   "cell_type": "code",
   "execution_count": 21,
   "id": "e747075c",
   "metadata": {},
   "outputs": [
    {
     "name": "stdout",
     "output_type": "stream",
     "text": [
      "Cual es tu nombre reinel\n",
      "Escribe un numero 6\n",
      "reinel reinel reinel reinel reinel reinel \n"
     ]
    }
   ],
   "source": [
    "nombre = input(\"Cual es tu nombre \")\n",
    "numero = int(input(\"Escribe un numero \"))\n",
    "def rep_nombre (no, nu):\n",
    "    if nu <= 0:\n",
    "        print(\"error\")\n",
    "    else:\n",
    "        print((no+\" \")*int(nu))\n",
    "        \n",
    "rep_nombre(nombre, numero)"
   ]
  },
  {
   "cell_type": "markdown",
   "id": "417cf02c",
   "metadata": {},
   "source": [
    " ### Ejercicio 4"
   ]
  },
  {
   "cell_type": "code",
   "execution_count": null,
   "id": "791994eb",
   "metadata": {},
   "outputs": [],
   "source": [
    "def es_simetrica(lista):\n",
    "    if lista == lista[::-1]:\n",
    "        return f\"La lista es simétrica y tiene {len(lista)} elementos.\"\n",
    "    else:\n",
    "        return \"La lista no es simétrica.\""
   ]
  },
  {
   "cell_type": "code",
   "execution_count": 18,
   "id": "ac6f8439",
   "metadata": {},
   "outputs": [
    {
     "name": "stdout",
     "output_type": "stream",
     "text": [
      "La lista es simétrica y tiene 7 elementos.\n"
     ]
    }
   ],
   "source": [
    "mi_lista = [1, 2, 3, 4, 3, 2, 1] \n",
    "resultado = es_simetrica(mi_lista)\n",
    "print(resultado)"
   ]
  },
  {
   "cell_type": "markdown",
   "id": "c42eec66",
   "metadata": {},
   "source": [
    "### Ejercicio 5"
   ]
  },
  {
   "cell_type": "code",
   "execution_count": 29,
   "id": "fa5b4189",
   "metadata": {},
   "outputs": [
    {
     "name": "stdout",
     "output_type": "stream",
     "text": [
      "Los números que coinciden con su posición son: [1, 5]\n"
     ]
    }
   ],
   "source": [
    "def coincidencia_posicion(lista):\n",
    "    coinciden = [num for num, pos in enumerate(lista) if num == pos]\n",
    "    return coinciden\n",
    "mi_lista = [3, 1, 3, 0, 2, 5, 7, 8, 9]\n",
    "print(f\"Los números que coinciden con su posición son: {coincidencia_posicion(mi_lista)}\")"
   ]
  },
  {
   "cell_type": "code",
   "execution_count": null,
   "id": "c4ed7e58",
   "metadata": {},
   "outputs": [],
   "source": []
  }
 ],
 "metadata": {
  "kernelspec": {
   "display_name": "Python 3 (ipykernel)",
   "language": "python",
   "name": "python3"
  },
  "language_info": {
   "codemirror_mode": {
    "name": "ipython",
    "version": 3
   },
   "file_extension": ".py",
   "mimetype": "text/x-python",
   "name": "python",
   "nbconvert_exporter": "python",
   "pygments_lexer": "ipython3",
   "version": "3.10.9"
  }
 },
 "nbformat": 4,
 "nbformat_minor": 5
}
