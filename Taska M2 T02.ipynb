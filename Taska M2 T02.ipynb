{
 "cells": [
  {
   "cell_type": "code",
   "execution_count": 3,
   "id": "076fa748",
   "metadata": {},
   "outputs": [],
   "source": [
    "#EJERCICIO 1\n",
    "\n",
    "def clasif(escala):\n",
    "    if escala < 5:\n",
    "        return \"suspendido\"\n",
    "    elif escala < 7:\n",
    "        return \"Aprobado\"\n",
    "    elif escala < 9:\n",
    "        return \"Notable\"\n",
    "    elif escala <= 10:\n",
    "        return \"Excelente\"\n",
    "    else:\n",
    "        return \"no existe\""
   ]
  },
  {
   "cell_type": "code",
   "execution_count": 4,
   "id": "4dd6c32b",
   "metadata": {},
   "outputs": [
    {
     "data": {
      "text/plain": [
       "'Excelente'"
      ]
     },
     "execution_count": 4,
     "metadata": {},
     "output_type": "execute_result"
    }
   ],
   "source": [
    "clasif(9)"
   ]
  },
  {
   "cell_type": "code",
   "execution_count": 5,
   "id": "6e67a1a5",
   "metadata": {},
   "outputs": [
    {
     "name": "stdout",
     "output_type": "stream",
     "text": [
      "Ingrese primer numero: 4\n",
      "ingrese segundo numero: 7\n",
      "el numero menor es el:  4\n"
     ]
    }
   ],
   "source": [
    "# Ejercicio 2\n",
    "num1= input(\"Ingrese primer numero: \")\n",
    "num2= input(\"ingrese segundo numero: \")\n",
    "if num1 > num2:\n",
    "    print(\"el numero mayor es el: \", max(num1,num2))\n",
    "elif num1 < num2:\n",
    "    print(\"el numero menor es el: \", min(num1,num2))\n",
    "else: \n",
    "    print(\"Los numeros: \", (num1,num2),\"son iguales\")"
   ]
  },
  {
   "cell_type": "code",
   "execution_count": 6,
   "id": "051c3e50",
   "metadata": {},
   "outputs": [
    {
     "name": "stdout",
     "output_type": "stream",
     "text": [
      "Cual es tu nombre Reinel \n",
      "Escribe un numero 5\n",
      "Reinel Reinel Reinel Reinel Reinel \n"
     ]
    }
   ],
   "source": [
    "# Ejercicio 3\n",
    "nombre = input(\"Cual es tu nombre \")\n",
    "numero = input(\"Escribe un numero \")\n",
    "if int(numero) == 0:\n",
    "    print(\"error\")\n",
    "if int(numero) >= 0:\n",
    "    print(nombre*int(numero))"
   ]
  },
  {
   "cell_type": "code",
   "execution_count": 65,
   "id": "4b209388",
   "metadata": {},
   "outputs": [],
   "source": [
    "# Ejercicio 4\n",
    "def es_simetrica(lista):\n",
    "    if lista == lista[::-1]:\n",
    "        elementos = len(lista)\n",
    "        return f\"La lista es simétrica y tiene {elementos} elementos.\"\n",
    "    else:\n",
    "        return \"La lista no es simétrica.\""
   ]
  },
  {
   "cell_type": "code",
   "execution_count": 53,
   "id": "ac6f8439",
   "metadata": {},
   "outputs": [
    {
     "name": "stdout",
     "output_type": "stream",
     "text": [
      "La lista es simétrica y tiene 7 elementos.\n"
     ]
    }
   ],
   "source": [
    "mi_lista = [1, 2, 3, 4, 3, 2, 1] \n",
    "resultado = es_simetrica(mi_lista)\n",
    "print(resultado)"
   ]
  },
  {
   "cell_type": "code",
   "execution_count": 7,
   "id": "fa5b4189",
   "metadata": {},
   "outputs": [
    {
     "name": "stdout",
     "output_type": "stream",
     "text": [
      "Los números que coinciden con su posición son: [1, 5]\n"
     ]
    }
   ],
   "source": [
    "# Ejercicio 5\n",
    "def numeros_coinciden_con_posicion(lista):\n",
    "    coinciden = [num for num, pos in enumerate(lista) if num == pos]\n",
    "    return coinciden\n",
    "mi_lista = [3, 1, 3, 0, 2, 5, 7, 8, 9]\n",
    "coincidencias = numeros_coinciden_con_posicion(mi_lista)\n",
    "print(f\"Los números que coinciden con su posición son: {coincidencias}\")"
   ]
  },
  {
   "cell_type": "code",
   "execution_count": null,
   "id": "c4ed7e58",
   "metadata": {},
   "outputs": [],
   "source": []
  }
 ],
 "metadata": {
  "kernelspec": {
   "display_name": "Python 3 (ipykernel)",
   "language": "python",
   "name": "python3"
  },
  "language_info": {
   "codemirror_mode": {
    "name": "ipython",
    "version": 3
   },
   "file_extension": ".py",
   "mimetype": "text/x-python",
   "name": "python",
   "nbconvert_exporter": "python",
   "pygments_lexer": "ipython3",
   "version": "3.10.9"
  }
 },
 "nbformat": 4,
 "nbformat_minor": 5
}
